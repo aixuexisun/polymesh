{
 "cells": [
  {
   "cell_type": "code",
   "execution_count": 1,
   "metadata": {
    "collapsed": true,
    "deletable": true,
    "editable": true
   },
   "outputs": [],
   "source": [
    "import numpy as np\n",
    "import scipy.interpolate as interpolate\n",
    "import scipy.optimize as optimize\n",
    "\n",
    "%matplotlib inline\n",
    "import matplotlib as mpl\n",
    "import matplotlib.pyplot as plt\n",
    "\n",
    "mpl.rcParams['figure.figsize'] = (16, 9)\n",
    "\n",
    "import sys\n",
    "import imp\n",
    "import os\n",
    "\n",
    "import polymesh.mesh as mesh\n",
    "import polymesh.hydrostatic as hydrostatic\n",
    "\n",
    "import time"
   ]
  },
  {
   "cell_type": "markdown",
   "metadata": {
    "deletable": true,
    "editable": true
   },
   "source": [
    "## Load Mesh"
   ]
  },
  {
   "cell_type": "code",
   "execution_count": 11,
   "metadata": {
    "collapsed": false,
    "deletable": true,
    "editable": true
   },
   "outputs": [],
   "source": [
    "# Import the test geoemtry, which is a full size version of the ship KCS\n",
    "shipMesh = mesh.importObj('KCS.obj')\n",
    "\n",
    "# The keel is located at z=0 in the geometry file. Translate it downwards to right depth\n",
    "T = 10.8\n",
    "shipMesh.translate(0, 0, -T)"
   ]
  },
  {
   "cell_type": "markdown",
   "metadata": {
    "deletable": true,
    "editable": true
   },
   "source": [
    "## Extract submerged Body"
   ]
  },
  {
   "cell_type": "code",
   "execution_count": 12,
   "metadata": {
    "collapsed": false,
    "deletable": true,
    "editable": true
   },
   "outputs": [
    {
     "name": "stdout",
     "output_type": "stream",
     "text": [
      "0.5628688335418701\n"
     ]
    }
   ],
   "source": [
    "startTime = time.time()\n",
    "wetMesh = hydrostatic.extractWetSurface(shipMesh)\n",
    "stopTime = time.time()\n",
    "\n",
    "print(stopTime - startTime)\n",
    "wetMesh.exportObj('wetMesh.obj')"
   ]
  },
  {
   "cell_type": "markdown",
   "metadata": {
    "deletable": true,
    "editable": true
   },
   "source": [
    "## Calculate hydrostatistic values"
   ]
  },
  {
   "cell_type": "code",
   "execution_count": 16,
   "metadata": {
    "collapsed": false,
    "deletable": true,
    "editable": true
   },
   "outputs": [
    {
     "name": "stdout",
     "output_type": "stream",
     "text": [
      "Volume: 51990.134 m^3\n",
      "Surface: 9535.126 m^2\n",
      "Volume centroid: 117.8406 0.0 -4.8902\n",
      "Dimensions: [ 239.44714354   32.20119      10.8       ]\n",
      "Mass: 53289.8869651 tonnes\n"
     ]
    }
   ],
   "source": [
    "rho = 1025\n",
    "\n",
    "Volume         = hydrostatic.calculateVolume(wetMesh)\n",
    "Surface        = hydrostatic.calculateSurface(wetMesh)\n",
    "volumeCentroid = hydrostatic.calculateVolumeCentroid(wetMesh)\n",
    "Dimensions     = hydrostatic.calculateDimensions(wetMesh) \n",
    "Mass = Volume*rho\n",
    "\n",
    "print('Volume:', np.round(Volume, decimals=3), 'm^3')\n",
    "print('Surface:', np.round(Surface, decimals=3), 'm^2')\n",
    "print('Volume centroid:', np.round(volumeCentroid[0], decimals=4), np.round(volumeCentroid[1], decimals=4), np.round(volumeCentroid[2], decimals=4))\n",
    "print('Dimensions:', Dimensions)\n",
    "print('Mass:', Mass/1e3, 'tonnes')"
   ]
  }
 ],
 "metadata": {
  "kernelspec": {
   "display_name": "Python 3",
   "language": "python",
   "name": "python3"
  },
  "language_info": {
   "codemirror_mode": {
    "name": "ipython",
    "version": 3
   },
   "file_extension": ".py",
   "mimetype": "text/x-python",
   "name": "python",
   "nbconvert_exporter": "python",
   "pygments_lexer": "ipython3",
   "version": "3.4.3+"
  }
 },
 "nbformat": 4,
 "nbformat_minor": 1
}
